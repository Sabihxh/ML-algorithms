{
 "cells": [
  {
   "cell_type": "markdown",
   "metadata": {},
   "source": [
    "## Logistic Regression from scratch (Binary Classification)\n",
    "Implementation of Logistic Regression for Binary Classification using Gradient Descent.\n",
    "\n",
    "#### Sources:\n",
    "\n",
    "[Cost Function and Gradient Descent](https://www.coursera.org/learn/machine-learning/supplement/0hpMl/simplified-cost-function-and-gradient-descent)\n",
    "\n",
    "\n",
    "#### Optimization algorithms:\n",
    "[[advanced-optimization]](https://www.coursera.org/learn/machine-learning/lecture/licwf/advanced-optimization)\n",
    "- Gradient descent\n",
    "- Conjugate gradient\n",
    "- BFGS\n",
    "- L-BFGS\n",
    "\n",
    "\n",
    "#### Useful Links:\n",
    "\n",
    "[Logistic regression (binary) - computing the gradient](https://www.youtube.com/watch?v=hWLdFMccpTY)"
   ]
  },
  {
   "cell_type": "code",
   "execution_count": 27,
   "metadata": {},
   "outputs": [],
   "source": [
    "import pandas as pd\n",
    "import matplotlib.pyplot as plt\n",
    "import numpy as np\n",
    "\n",
    "from IPython.display import Markdown as md\n",
    "from numpy.random import RandomState\n",
    "from sklearn.linear_model import LogisticRegression\n",
    "\n",
    "\n",
    "\n",
    "\n",
    "prng = RandomState(10)"
   ]
  },
  {
   "cell_type": "markdown",
   "metadata": {},
   "source": [
    "### Hypothesis function"
   ]
  },
  {
   "cell_type": "markdown",
   "metadata": {},
   "source": [
    "Logistic Regression hypothesis function is defined as:\n",
    " \n",
    "$$h_\\theta(x) = g(\\theta^Tx),$$\n",
    "\n",
    "where function g is the Sigmoid function and is defined as:\n",
    "\n",
    "$$g(z)= \\frac{1}{1+e^{-z}}$$"
   ]
  },
  {
   "cell_type": "markdown",
   "metadata": {},
   "source": [
    "### Sigmoid function - Implementation"
   ]
  },
  {
   "cell_type": "code",
   "execution_count": 2,
   "metadata": {},
   "outputs": [],
   "source": [
    "def sigmoid_function(z):\n",
    "    \"\"\"\n",
    "    Applies sigmoid function to an integer or an array\n",
    "    \n",
    "    Params:\n",
    "        z (int or array)\n",
    "    \"\"\"\n",
    "    return 1/(1+(np.exp(-z)))\n",
    "\n"
   ]
  },
  {
   "cell_type": "markdown",
   "metadata": {},
   "source": [
    "### Sigmoid function - Properties\n",
    "[[decision-boundary]](https://www.coursera.org/learn/machine-learning/supplement/N8qsm/decision-boundary)"
   ]
  },
  {
   "cell_type": "markdown",
   "metadata": {},
   "source": [
    "$$z = 0 \\implies e^{-z} = 1 \\implies  g(z) \\rightarrow 0.5$$"
   ]
  },
  {
   "cell_type": "markdown",
   "metadata": {},
   "source": [
    "$$z \\rightarrow \\infty, \\implies e^{-z} \\rightarrow 0 \\implies g(z) \\rightarrow 1$$"
   ]
  },
  {
   "cell_type": "markdown",
   "metadata": {},
   "source": [
    "$$z \\rightarrow -\\infty, \\implies e^{-z} \\rightarrow 0 \\implies g(z) \\rightarrow 0$$"
   ]
  },
  {
   "cell_type": "markdown",
   "metadata": {},
   "source": [
    "### Test Sigmoid Function"
   ]
  },
  {
   "cell_type": "code",
   "execution_count": 3,
   "metadata": {},
   "outputs": [
    {
     "name": "stdout",
     "output_type": "stream",
     "text": [
      "z=0, g(z) = 0.5\n",
      "z=20, g(z) = 1.0\n",
      "z=-20, g(z) = 0.0\n"
     ]
    }
   ],
   "source": [
    "print('z=0, g(z) = {}'.format(sigmoid_function(0)))\n",
    "print('z=20, g(z) = {}'.format(sigmoid_function(20).round(8)))\n",
    "print('z=-20, g(z) = {}'.format(sigmoid_function(-20).round(8)))"
   ]
  },
  {
   "cell_type": "markdown",
   "metadata": {},
   "source": [
    "### Vectoried Cost Function:\n",
    "[[cost-function]](https://www.coursera.org/learn/machine-learning/supplement/bgEt4/cost-function)\n",
    "\n",
    "We will try to minimise the cost function."
   ]
  },
  {
   "cell_type": "markdown",
   "metadata": {},
   "source": [
    "$$h=g(X\\theta)$$"
   ]
  },
  {
   "cell_type": "markdown",
   "metadata": {},
   "source": [
    "$$J(\\theta) = $$"
   ]
  },
  {
   "cell_type": "markdown",
   "metadata": {},
   "source": [
    "$$J(\\theta) = \\frac{1}{m} (-y^{T}log(h) - (1-y)^{T}log(1-h))$$"
   ]
  },
  {
   "cell_type": "code",
   "execution_count": 5,
   "metadata": {},
   "outputs": [],
   "source": [
    "def cost_function(x, y, theta):\n",
    "    \"\"\"\n",
    "    Returns the cost for given x, y, and theta.\n",
    "    \n",
    "    Params:\n",
    "        x (numpy array): ((M x (N+1)) matrix), these are \n",
    "            the dataset features.\n",
    "            \n",
    "        y (numpy array): (M x 1) column vector, this is\n",
    "            the value to be predicted.\n",
    "            \n",
    "        theta (numpy array): Co-efficients\n",
    "    \n",
    "    \"\"\"\n",
    "    m = y.shape[0]\n",
    "    z = x @ theta\n",
    "    h = sigmoid_function(z)\n",
    "    \n",
    "    c1 = -y.T @ np.log(h)\n",
    "    c2 = (1-y).T @ np.log(1-h)\n",
    "    \n",
    "    J = (1/m) * ( c1 - c2 )\n",
    "    \n",
    "    return J[0, 0]\n",
    "\n"
   ]
  },
  {
   "cell_type": "markdown",
   "metadata": {},
   "source": [
    "### Gradient Descent:\n",
    "[[gradient-descent]](https://www.coursera.org/learn/machine-learning/supplement/0hpMl/simplified-cost-function-and-gradient-descent)\n",
    "\n",
    "We will use Gradient Descent to minimise the cost function."
   ]
  },
  {
   "cell_type": "markdown",
   "metadata": {},
   "source": [
    "General form of gradient descent:\n",
    "\\begin{align}\n",
    "Repeat \\{ \\\\\n",
    "        \\theta_j := \\theta_j − \\alpha\\frac{\\partial}{\\partial\\theta_j}J(\\theta) \\\\\n",
    "\\}\n",
    "\\end{align}"
   ]
  },
  {
   "cell_type": "markdown",
   "metadata": {},
   "source": [
    "Vectorised implementation after workig out the partial derivatives:\n",
    "\n",
    "\\begin{align}\n",
    "\\theta := \\theta − \\frac{\\alpha}{m} X^T(g(X\\theta) - y)\n",
    "\\end{align}\n"
   ]
  },
  {
   "cell_type": "code",
   "execution_count": 6,
   "metadata": {},
   "outputs": [],
   "source": [
    "def gradient_descent(x, y, theta, alpha=0.01):\n",
    "    \"\"\"\n",
    "    Returns coefficients (theta) by performing one step\n",
    "    of gradient descent.\n",
    "    \n",
    "    Params:\n",
    "        x (numpy array): ((M x (N+1)) matrix), these are \n",
    "            the dataset features.\n",
    "            \n",
    "        y (numpy array): (M x 1) column vector, this is\n",
    "            the value to be predicted.\n",
    "            \n",
    "        theta (numpy array): Co-efficients\n",
    "        \n",
    "        alpha (float): Learning rate for gradient descent\n",
    "            algorithm\n",
    "    \n",
    "    \"\"\"\n",
    "    m = y.shape[0]\n",
    "    z = x @ theta\n",
    "    h = sigmoid_function(z)\n",
    "    errors = h - y\n",
    "    theta = theta - ((alpha/m) * (x.T @ errors))\n",
    "    return theta\n",
    "    "
   ]
  },
  {
   "cell_type": "code",
   "execution_count": 133,
   "metadata": {},
   "outputs": [],
   "source": [
    "def fit(x, y, alpha=0.01, steps=1000):\n",
    "    m = y.shape[0]\n",
    "    x = np.append(np.ones((m, 1)), x, axis=1)\n",
    "    n = x.shape[1]\n",
    "    \n",
    "    theta = np.zeros((n, 1))\n",
    "    \n",
    "    costs = []\n",
    "    for _ in range(steps):\n",
    "        theta = gradient_descent(x, y, theta, alpha)\n",
    "        cost = cost_function(x, y, theta)\n",
    "        costs.append(cost)\n",
    "    return {'costs': costs, 'theta': theta}\n"
   ]
  },
  {
   "cell_type": "markdown",
   "metadata": {},
   "source": [
    "### Testing implementation"
   ]
  },
  {
   "cell_type": "code",
   "execution_count": 134,
   "metadata": {},
   "outputs": [],
   "source": [
    "df = pd.read_csv('./data/ex2data1.txt', header=None, names=['x1', 'x2', 'y'])\n",
    "\n",
    "x = df[['x1', 'x2']].to_numpy()\n",
    "y = df[['y']].to_numpy()\n"
   ]
  },
  {
   "cell_type": "code",
   "execution_count": 135,
   "metadata": {},
   "outputs": [
    {
     "data": {
      "text/html": [
       "<div>\n",
       "<style scoped>\n",
       "    .dataframe tbody tr th:only-of-type {\n",
       "        vertical-align: middle;\n",
       "    }\n",
       "\n",
       "    .dataframe tbody tr th {\n",
       "        vertical-align: top;\n",
       "    }\n",
       "\n",
       "    .dataframe thead th {\n",
       "        text-align: right;\n",
       "    }\n",
       "</style>\n",
       "<table border=\"1\" class=\"dataframe\">\n",
       "  <thead>\n",
       "    <tr style=\"text-align: right;\">\n",
       "      <th></th>\n",
       "      <th>x1</th>\n",
       "      <th>x2</th>\n",
       "      <th>y</th>\n",
       "    </tr>\n",
       "  </thead>\n",
       "  <tbody>\n",
       "    <tr>\n",
       "      <th>97</th>\n",
       "      <td>99.315009</td>\n",
       "      <td>68.775409</td>\n",
       "      <td>1</td>\n",
       "    </tr>\n",
       "    <tr>\n",
       "      <th>98</th>\n",
       "      <td>55.340018</td>\n",
       "      <td>64.931938</td>\n",
       "      <td>1</td>\n",
       "    </tr>\n",
       "    <tr>\n",
       "      <th>99</th>\n",
       "      <td>74.775893</td>\n",
       "      <td>89.529813</td>\n",
       "      <td>1</td>\n",
       "    </tr>\n",
       "  </tbody>\n",
       "</table>\n",
       "</div>"
      ],
      "text/plain": [
       "           x1         x2  y\n",
       "97  99.315009  68.775409  1\n",
       "98  55.340018  64.931938  1\n",
       "99  74.775893  89.529813  1"
      ]
     },
     "execution_count": 135,
     "metadata": {},
     "output_type": "execute_result"
    }
   ],
   "source": [
    "df.tail(3)"
   ]
  },
  {
   "cell_type": "code",
   "execution_count": 136,
   "metadata": {
    "scrolled": true
   },
   "outputs": [
    {
     "data": {
      "image/png": "[encoded data removed]",
      "text/plain": [
       "<Figure size 432x288 with 1 Axes>"
      ]
     },
     "metadata": {
      "needs_background": "light"
     },
     "output_type": "display_data"
    }
   ],
   "source": [
    "plt.scatter(df['x1'], df['x2'], c=df['y']);"
   ]
  },
  {
   "cell_type": "code",
   "execution_count": 137,
   "metadata": {
    "scrolled": true
   },
   "outputs": [],
   "source": [
    "alpha = 0.0009\n",
    "steps = 1000\n",
    "# result = fit(x, y, alpha=alpha, steps=steps)"
   ]
  },
  {
   "cell_type": "markdown",
   "metadata": {},
   "source": [
    "### Test cost values\n",
    "\n",
    "Cost values should always decrease, if not then we may have to adjust our learning rate, alpha."
   ]
  },
  {
   "cell_type": "code",
   "execution_count": 138,
   "metadata": {},
   "outputs": [],
   "source": [
    "def check_cost(costs):\n",
    "    \"\"\"\n",
    "    Checks if the cost is always\n",
    "    \"\"\"\n",
    "    for i in range(len(costs)-1):\n",
    "        if costs[i] < costs[i+1]:\n",
    "            print('error: cost increased at step: {}\\nDecrease your learning rate...'.format(i+1))\n",
    "            return \n",
    "        "
   ]
  },
  {
   "cell_type": "code",
   "execution_count": 139,
   "metadata": {},
   "outputs": [],
   "source": [
    "costs, theta = result['costs'], result['theta']\n",
    "\n",
    "check_cost(costs)"
   ]
  },
  {
   "cell_type": "code",
   "execution_count": 140,
   "metadata": {},
   "outputs": [
    {
     "name": "stdout",
     "output_type": "stream",
     "text": [
      "\n",
      "    Learning rate, alpha = 0.0009 seems to be low enough for our gradient descent algorithm to converge to minimum.\n",
      "    \n"
     ]
    }
   ],
   "source": [
    "print(\n",
    "    \"\"\"\n",
    "    Learning rate, alpha = {} seems to be low enough for our gradient descent algorithm to converge to minimum.\n",
    "    \"\"\".format(alpha)\n",
    ")"
   ]
  },
  {
   "cell_type": "markdown",
   "metadata": {},
   "source": [
    "### Plot Cost by itteration"
   ]
  },
  {
   "cell_type": "code",
   "execution_count": 141,
   "metadata": {},
   "outputs": [
    {
     "data": {
      "image/png": "[encoded data removed]",
      "text/plain": [
       "<Figure size 432x288 with 1 Axes>"
      ]
     },
     "metadata": {
      "needs_background": "light"
     },
     "output_type": "display_data"
    }
   ],
   "source": [
    "plt.plot(costs);"
   ]
  },
  {
   "cell_type": "markdown",
   "metadata": {},
   "source": [
    "Seems like the cost is still going down, lets re-run the algorithm with more steps"
   ]
  },
  {
   "cell_type": "markdown",
   "metadata": {},
   "source": [
    "### Re-run the algorithm with large number of steps (10,000,000)"
   ]
  },
  {
   "cell_type": "code",
   "execution_count": 149,
   "metadata": {},
   "outputs": [],
   "source": [
    "alpha = 0.0009\n",
    "steps = 10000000 #10,000,000\n",
    "# result = fit(x, y, alpha=alpha, steps=steps)\n",
    "costs, theta = result['costs'], result['theta']"
   ]
  },
  {
   "cell_type": "code",
   "execution_count": 156,
   "metadata": {},
   "outputs": [
    {
     "name": "stdout",
     "output_type": "stream",
     "text": [
      "[0.2035480148775637, 0.20354801484953938, 0.20354801482151505]\n",
      "theta: \n",
      "[[-24.58540853]\n",
      " [  0.20162535]\n",
      " [  0.19681125]]\n"
     ]
    }
   ],
   "source": [
    "print(costs[-3:], 'theta: ', theta, sep='\\n')"
   ]
  },
  {
   "cell_type": "markdown",
   "metadata": {},
   "source": [
    "### Plot the hypothesis curve\n",
    "\n",
    "Since we only have two features $x_1$ and $x_2$, we can plot one as a function of another on a 2D graph:\n",
    "\n",
    "$$h_\\theta(x) = \\theta_0 + \\theta_1x_1 + \\theta_2x_2$$\n",
    "\n",
    "We want to plot $x_2$ as a function of $x_1$, hence rearranging for $x_2$, we get:\n",
    "\n",
    "$$x_2 = -\\frac{1}{\\theta_2}(\\theta_0 + \\theta_1x_1)$$\n",
    "\n",
    "Let $\\theta \\setminus \\theta_2$ be a column vector with all values of $\\theta$ except $\\theta_2$, then the Vectorised form is:\n",
    "\n",
    "$$x_2 = -\\frac{1}{\\theta_2}X\\theta \\setminus \\theta_2$$\n"
   ]
  },
  {
   "cell_type": "code",
   "execution_count": 158,
   "metadata": {},
   "outputs": [
    {
     "name": "stdout",
     "output_type": "stream",
     "text": [
      "theta_0 = -24.58540853445173\n",
      "theta_1 = 0.20162535072282534\n",
      "theta_2 = 0.1968112490497232\n"
     ]
    }
   ],
   "source": [
    "print('theta_0 = %s'%theta[0, 0], 'theta_1 = %s'%theta[1, 0], 'theta_2 = %s'%theta[2, 0], sep='\\n')"
   ]
  },
  {
   "cell_type": "code",
   "execution_count": 160,
   "metadata": {},
   "outputs": [
    {
     "data": {
      "image/png": "[encoded data removed]",
      "text/plain": [
       "<Figure size 432x288 with 1 Axes>"
      ]
     },
     "metadata": {
      "needs_background": "light"
     },
     "output_type": "display_data"
    }
   ],
   "source": [
    "def plot(x, y, theta):\n",
    "    x1, x2 = x[:, 0], x[:, 1]\n",
    "    \n",
    "    # Plot the points\n",
    "    plt.scatter(x1, x2, c=y);\n",
    "    \n",
    "    # Plot decision Boundry\n",
    "    x1_min, x1_max = x1.min(), x1.max()\n",
    "    theta_0, theta_1, theta_2 = theta[:, 0]\n",
    "    x2_1 = (-1/theta_2) * (theta_0 + theta_1 * x1_min)\n",
    "    x2_2 = (-1/theta_2) * (theta_0 + theta_1 * x1_max)\n",
    "    \n",
    "    plt.plot([x1_min, x1_max], [x2_1, x2_2])\n",
    "    \n",
    "    \n",
    "plot(x, y, theta)"
   ]
  },
  {
   "cell_type": "markdown",
   "metadata": {},
   "source": [
    "### Logistic Regression using Sklearn"
   ]
  },
  {
   "cell_type": "code",
   "execution_count": 161,
   "metadata": {},
   "outputs": [
    {
     "data": {
      "text/plain": [
       "LogisticRegression(C=1.0, class_weight=None, dual=False, fit_intercept=True,\n",
       "                   intercept_scaling=1, l1_ratio=None, max_iter=100,\n",
       "                   multi_class='auto', n_jobs=None, penalty='l2',\n",
       "                   random_state=None, solver='lbfgs', tol=0.0001, verbose=0,\n",
       "                   warm_start=False)"
      ]
     },
     "execution_count": 161,
     "metadata": {},
     "output_type": "execute_result"
    }
   ],
   "source": [
    "model = LogisticRegression()\n",
    "model.fit(x, y[:, 0])"
   ]
  },
  {
   "cell_type": "code",
   "execution_count": 165,
   "metadata": {},
   "outputs": [
    {
     "data": {
      "text/plain": [
       "array([[-25.05219314],\n",
       "       [  0.20535491],\n",
       "       [  0.2005838 ]])"
      ]
     },
     "execution_count": 165,
     "metadata": {},
     "output_type": "execute_result"
    }
   ],
   "source": [
    "theta = np.append(model.intercept_, model.coef_)[:, np.newaxis]\n",
    "theta"
   ]
  },
  {
   "cell_type": "code",
   "execution_count": 166,
   "metadata": {},
   "outputs": [
    {
     "data": {
      "image/png": "[encoded data removed]",
      "text/plain": [
       "<Figure size 432x288 with 1 Axes>"
      ]
     },
     "metadata": {
      "needs_background": "light"
     },
     "output_type": "display_data"
    }
   ],
   "source": [
    "plot(x, y, theta)"
   ]
  },
  {
   "cell_type": "code",
   "execution_count": null,
   "metadata": {},
   "outputs": [],
   "source": []
  },
  {
   "cell_type": "code",
   "execution_count": null,
   "metadata": {},
   "outputs": [],
   "source": []
  },
  {
   "cell_type": "code",
   "execution_count": null,
   "metadata": {},
   "outputs": [],
   "source": []
  },
  {
   "cell_type": "code",
   "execution_count": null,
   "metadata": {},
   "outputs": [],
   "source": []
  },
  {
   "cell_type": "code",
   "execution_count": null,
   "metadata": {},
   "outputs": [],
   "source": []
  },
  {
   "cell_type": "code",
   "execution_count": null,
   "metadata": {},
   "outputs": [],
   "source": []
  },
  {
   "cell_type": "code",
   "execution_count": null,
   "metadata": {},
   "outputs": [],
   "source": []
  }
 ],
 "metadata": {
  "kernelspec": {
   "display_name": "Python 3",
   "language": "python",
   "name": "python3"
  },
  "language_info": {
   "codemirror_mode": {
    "name": "ipython",
    "version": 3
   },
   "file_extension": ".py",
   "mimetype": "text/x-python",
   "name": "python",
   "nbconvert_exporter": "python",
   "pygments_lexer": "ipython3",
   "version": "3.7.7"
  }
 },
 "nbformat": 4,
 "nbformat_minor": 4
}

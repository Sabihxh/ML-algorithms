{
 "cells": [
  {
   "cell_type": "markdown",
   "metadata": {},
   "source": [
    "## Logistic Regression from scratch (Binary Classification)\n",
    "Implementation of Logistic Regression for Binary Classification, using Gradient Descent.\n",
    "\n",
    "#### Sources:\n",
    "\n",
    "[Cost Function and Gradient Descent](https://www.coursera.org/learn/machine-learning/supplement/0hpMl/simplified-cost-function-and-gradient-descent)\n",
    "\n",
    "\n",
    "#### Optimization algorithms:\n",
    "[[advanced-optimization]](https://www.coursera.org/learn/machine-learning/lecture/licwf/advanced-optimization)\n",
    "- Gradient descent\n",
    "- Conjugate gradient\n",
    "- BFGS\n",
    "- L-BFGS\n",
    "\n",
    "\n",
    "#### Useful Links:\n",
    "\n",
    "[Logistic regression (binary) - computing the gradient](https://www.youtube.com/watch?v=hWLdFMccpTY)\n",
    "\n"
   ]
  },
  {
   "cell_type": "code",
   "execution_count": 1,
   "metadata": {},
   "outputs": [],
   "source": [
    "import pandas as pd\n",
    "import matplotlib.pyplot as plt\n",
    "import numpy as np\n",
    "\n",
    "from IPython.display import Markdown as md, Image\n",
    "from numpy.random import RandomState\n",
    "from sklearn.linear_model import LogisticRegression\n",
    "\n",
    "prng = RandomState(10)"
   ]
  },
  {
   "cell_type": "markdown",
   "metadata": {},
   "source": [
    "### Hypothesis function"
   ]
  },
  {
   "cell_type": "markdown",
   "metadata": {},
   "source": [
    "Hypothesis function for Logistic Regression is defined as:\n",
    "\n",
    "$$h_\\theta(x) = g(z),$$\n",
    "\n",
    "where the function g is the Sigmoid function:\n",
    "\n",
    "$$g(z) = \\frac{1}{1+e^{-z}},$$\n",
    "\n",
    "and \n",
    "\n",
    "$$z = \\theta_0 + \\theta_1x_1 + \\theta_2x_2 + ... + \\theta_nx_n = \\theta^TX,$$\n",
    "\n",
    "hence,\n",
    "\n",
    "$$h_\\theta(x) = \\frac{1}{1+e^{-\\theta^TX}}$$"
   ]
  },
  {
   "cell_type": "markdown",
   "metadata": {},
   "source": [
    "### Sigmoid function - Implementation"
   ]
  },
  {
   "cell_type": "code",
   "execution_count": 2,
   "metadata": {},
   "outputs": [],
   "source": [
    "def sigmoid_function(z):\n",
    "    \"\"\"\n",
    "    Applies sigmoid function to an integer or an array\n",
    "    \n",
    "    Params:\n",
    "        z (int or array)\n",
    "    \"\"\"\n",
    "    return 1/(1+(np.exp(-z)))\n",
    "\n"
   ]
  },
  {
   "cell_type": "markdown",
   "metadata": {},
   "source": [
    "### Sigmoid function - Properties\n",
    "[[decision-boundary]](https://www.coursera.org/learn/machine-learning/supplement/N8qsm/decision-boundary)"
   ]
  },
  {
   "cell_type": "markdown",
   "metadata": {},
   "source": [
    "$$z = 0 \\implies e^{-z} = 1 \\implies  g(z) \\rightarrow 0.5$$"
   ]
  },
  {
   "cell_type": "markdown",
   "metadata": {},
   "source": [
    "$$z \\rightarrow \\infty, \\implies e^{-z} \\rightarrow 0 \\implies g(z) \\rightarrow 1$$"
   ]
  },
  {
   "cell_type": "markdown",
   "metadata": {},
   "source": [
    "$$z \\rightarrow -\\infty, \\implies e^{-z} \\rightarrow 0 \\implies g(z) \\rightarrow 0$$"
   ]
  },
  {
   "cell_type": "markdown",
   "metadata": {},
   "source": [
    "### Test Sigmoid Function"
   ]
  },
  {
   "cell_type": "code",
   "execution_count": 3,
   "metadata": {},
   "outputs": [
    {
     "name": "stdout",
     "output_type": "stream",
     "text": [
      "z=0, g(z) = 0.5\n",
      "z=20, g(z) = 1.0\n",
      "z=-20, g(z) = 0.0\n"
     ]
    }
   ],
   "source": [
    "print('z=0, g(z) = {}'.format(sigmoid_function(0)))\n",
    "print('z=20, g(z) = {}'.format(sigmoid_function(20).round(8)))\n",
    "print('z=-20, g(z) = {}'.format(sigmoid_function(-20).round(8)))"
   ]
  },
  {
   "cell_type": "markdown",
   "metadata": {},
   "source": [
    "### Vectorised Cost Function:\n",
    "[[cost-function]](https://www.coursera.org/learn/machine-learning/supplement/bgEt4/cost-function)\n",
    "\n",
    "We will try to minimise the cost function. The vectorised form of Cost Function is:"
   ]
  },
  {
   "cell_type": "markdown",
   "metadata": {},
   "source": [
    "$$J(\\theta) = \\frac{1}{m} (-y^{T}log(h) - (1-y)^{T}log(1-h)),$$"
   ]
  },
  {
   "cell_type": "markdown",
   "metadata": {},
   "source": [
    "where h is is the hypothesis function in vectorised form,\n",
    "$$h=g(X\\theta).$$"
   ]
  },
  {
   "cell_type": "code",
   "execution_count": 4,
   "metadata": {},
   "outputs": [],
   "source": [
    "def cost_function(x, y, theta):\n",
    "    \"\"\"\n",
    "    Returns the cost for given x, y, and theta.\n",
    "    \n",
    "    Params:\n",
    "        x (numpy array): ((M x (N+1)) matrix), these are \n",
    "            the dataset features.\n",
    "            \n",
    "        y (numpy array): (M x 1) column vector, this is\n",
    "            the value to be predicted.\n",
    "            \n",
    "        theta (numpy array): Co-efficients\n",
    "    \n",
    "    \"\"\"\n",
    "    m = y.shape[0]\n",
    "    z = x @ theta\n",
    "    h = sigmoid_function(z)\n",
    "    \n",
    "    c1 = -y.T @ np.log(h)\n",
    "    c2 = (1-y).T @ np.log(1-h)\n",
    "    \n",
    "    J = (1/m) * ( c1 - c2 )\n",
    "    \n",
    "    return J[0, 0]\n",
    "\n"
   ]
  },
  {
   "cell_type": "markdown",
   "metadata": {},
   "source": [
    "### Gradient Descent:\n",
    "[[gradient-descent]](https://www.coursera.org/learn/machine-learning/supplement/0hpMl/simplified-cost-function-and-gradient-descent)\n",
    "\n",
    "We will use Gradient Descent to minimise the cost function."
   ]
  },
  {
   "cell_type": "markdown",
   "metadata": {},
   "source": [
    "General form of gradient descent:"
   ]
  },
  {
   "cell_type": "markdown",
   "metadata": {},
   "source": [
    "$$\\theta_j := \\theta_j - \\alpha\\frac{\\partial}{\\partial\\theta_j}J(\\theta),$$\n",
    "\n",
    "repeat until convergence."
   ]
  },
  {
   "cell_type": "markdown",
   "metadata": {},
   "source": [
    "Vectorised implementation after working out the partial derivatives:\n",
    "\n",
    "$$\\theta := \\theta - \\frac{\\alpha}{m} X^T(g(X\\theta) - y)$$\n"
   ]
  },
  {
   "cell_type": "code",
   "execution_count": 5,
   "metadata": {},
   "outputs": [],
   "source": [
    "def gradient_descent(x, y, theta, alpha=0.01):\n",
    "    \"\"\"\n",
    "    Returns coefficients (theta) by performing one step\n",
    "    of gradient descent.\n",
    "    \n",
    "    Params:\n",
    "        x (numpy array): ((M x (N+1)) matrix), these are \n",
    "            the dataset features.\n",
    "            \n",
    "        y (numpy array): (M x 1) column vector, this is\n",
    "            the value to be predicted.\n",
    "            \n",
    "        theta (numpy array): Co-efficients\n",
    "        \n",
    "        alpha (float): Learning rate for gradient descent\n",
    "            algorithm\n",
    "    \n",
    "    \"\"\"\n",
    "    m = y.shape[0]\n",
    "    z = x @ theta\n",
    "    h = sigmoid_function(z)\n",
    "    errors = h - y\n",
    "    theta = theta - ((alpha/m) * (x.T @ errors))\n",
    "    return theta\n",
    "    "
   ]
  },
  {
   "cell_type": "code",
   "execution_count": 6,
   "metadata": {},
   "outputs": [],
   "source": [
    "def fit(x, y, alpha=0.01, steps=1000):\n",
    "    m = y.shape[0]\n",
    "    x = np.append(np.ones((m, 1)), x, axis=1)\n",
    "    n = x.shape[1]\n",
    "    \n",
    "    theta = np.zeros((n, 1))\n",
    "    \n",
    "    costs = []\n",
    "    for _ in range(steps):\n",
    "        theta = gradient_descent(x, y, theta, alpha)\n",
    "        cost = cost_function(x, y, theta)\n",
    "        costs.append(cost)\n",
    "    return {'costs': costs, 'theta': theta}\n"
   ]
  },
  {
   "cell_type": "markdown",
   "metadata": {},
   "source": [
    "### Testing implementation"
   ]
  },
  {
   "cell_type": "code",
   "execution_count": 54,
   "metadata": {},
   "outputs": [],
   "source": [
    "df = pd.read_csv('./data/ex2data1.txt', header=None, names=['x1', 'x2', 'y'])\n",
    "\n",
    "x = df[['x1', 'x2']].to_numpy()\n",
    "y = df[['y']].to_numpy()\n"
   ]
  },
  {
   "cell_type": "code",
   "execution_count": 55,
   "metadata": {
    "scrolled": true
   },
   "outputs": [
    {
     "data": {
      "image/png": "[encoded data removed]",
      "text/plain": [
       "<Figure size 432x288 with 1 Axes>"
      ]
     },
     "metadata": {
      "needs_background": "light"
     },
     "output_type": "display_data"
    }
   ],
   "source": [
    "plt.scatter(df['x1'], df['x2'], c=df['y']);"
   ]
  },
  {
   "cell_type": "code",
   "execution_count": 9,
   "metadata": {
    "scrolled": true
   },
   "outputs": [],
   "source": [
    "alpha = 0.0009\n",
    "steps = 200000\n",
    "\n",
    "result = fit(x, y, alpha=alpha, steps=steps)\n",
    "\n",
    "costs, theta = result['costs'], result['theta']"
   ]
  },
  {
   "cell_type": "code",
   "execution_count": 10,
   "metadata": {},
   "outputs": [
    {
     "name": "stdout",
     "output_type": "stream",
     "text": [
      "theta_0 = -7.010230917814085\n",
      "theta_1 = 0.06209394526734941\n",
      "theta_2 = 0.0555120261194164\n"
     ]
    }
   ],
   "source": [
    "print('theta_0 = %s'%theta[0, 0], 'theta_1 = %s'%theta[1, 0], 'theta_2 = %s'%theta[2, 0], sep='\\n')"
   ]
  },
  {
   "cell_type": "markdown",
   "metadata": {},
   "source": [
    "### Convergence Test\n",
    "\n",
    "Cost values should always decrease on every itteration, if not then we may have to adjust (lower) our learning rate, alpha."
   ]
  },
  {
   "cell_type": "code",
   "execution_count": 11,
   "metadata": {},
   "outputs": [],
   "source": [
    "def check_cost(costs):\n",
    "    \"\"\"\n",
    "    Checks if the cost is always decreasing.\n",
    "    \"\"\"\n",
    "    for i in range(len(costs)-1):\n",
    "        if costs[i] < costs[i+1]:\n",
    "            print('error: cost increased at step: {}\\nDecrease your learning rate...'.format(i+1))\n",
    "            return \n",
    "        \n",
    "    print(\"alpha seems to be low enough for gradient descent algorithm to converge to minimum.\")\n",
    "        "
   ]
  },
  {
   "cell_type": "code",
   "execution_count": 12,
   "metadata": {},
   "outputs": [
    {
     "name": "stdout",
     "output_type": "stream",
     "text": [
      "alpha seems to be low enough for gradient descent algorithm to converge to minimum.\n"
     ]
    }
   ],
   "source": [
    "check_cost(costs)"
   ]
  },
  {
   "cell_type": "markdown",
   "metadata": {},
   "source": [
    "### Cost by itterations"
   ]
  },
  {
   "cell_type": "code",
   "execution_count": 13,
   "metadata": {},
   "outputs": [
    {
     "data": {
      "image/png": "[encoded data removed]",
      "text/plain": [
       "<Figure size 432x288 with 1 Axes>"
      ]
     },
     "metadata": {
      "needs_background": "light"
     },
     "output_type": "display_data"
    }
   ],
   "source": [
    "plt.plot(costs);"
   ]
  },
  {
   "cell_type": "markdown",
   "metadata": {},
   "source": [
    "### Plot the Boundry line\n",
    "\n",
    "Since we only have two features $x_1$ and $x_2$, we can plot one as a function of another, on a 2D graph:\n",
    "\n",
    "$$h_\\theta(x) = \\theta_0 + \\theta_1x_1 + \\theta_2x_2$$\n",
    "\n",
    "We want to plot $x_2$ as a function of $x_1$, hence rearranging for $x_2$, we get:\n",
    "\n",
    "$$x_2 = -\\frac{1}{\\theta_2}(\\theta_0 + \\theta_1x_1)$$\n",
    "\n",
    "Let $\\theta_{-2}$ be a column vector with all values of $\\theta$ except $\\theta_2$, and $X_{-2}$ be the matrix $X$ without the column $X_2$, then the Vectorised form is:\n",
    "\n",
    "$$x_2 = -\\frac{1}{\\theta_2}[X_{-2}] [\\vec{\\theta_{-2}}]$$\n"
   ]
  },
  {
   "cell_type": "code",
   "execution_count": 14,
   "metadata": {},
   "outputs": [],
   "source": [
    "def plot(x, y, theta):\n",
    "    x1_plot = np.linspace(x[:, 0].min(), x[:, 1].max())[:, np.newaxis]\n",
    "    ones = np.ones((x1_plot.shape[0], 1))\n",
    "\n",
    "    x1 = np.append(ones, x1_plot, axis=1)\n",
    "    x2_plot = -(1/theta[2, 0]) * x1 @ theta[:2, :]\n",
    "\n",
    "    plt.scatter(x[:, 0], x[:, 1], c=y);\n",
    "    plt.plot(x1_plot[:, 0], x2_plot[:, 0])"
   ]
  },
  {
   "cell_type": "code",
   "execution_count": 15,
   "metadata": {},
   "outputs": [
    {
     "data": {
      "image/png": "[encoded data removed]",
      "text/plain": [
       "<Figure size 432x288 with 1 Axes>"
      ]
     },
     "metadata": {
      "needs_background": "light"
     },
     "output_type": "display_data"
    }
   ],
   "source": [
    "plot(x, y, theta)"
   ]
  },
  {
   "cell_type": "markdown",
   "metadata": {},
   "source": [
    "### Model Accuracy\n",
    "\n",
    "We need to convert the probabilities into binary values to get y:"
   ]
  },
  {
   "cell_type": "markdown",
   "metadata": {},
   "source": [
    "\\begin{equation}\n",
    "  y =\n",
    "    \\begin{cases}\n",
    "      0 & \\text{if $h_{\\theta}(x) <= 0.5$}\\\\\n",
    "      1 & \\text{otherwise}\n",
    "    \\end{cases}       \n",
    "\\end{equation}"
   ]
  },
  {
   "cell_type": "code",
   "execution_count": 16,
   "metadata": {},
   "outputs": [],
   "source": [
    "def get_accuracy(x, y, theta, add_ones=True):\n",
    "    \n",
    "    m = y.shape[0]\n",
    "    \n",
    "    if add_ones:\n",
    "        x = np.append(np.ones((m, 1)), x, axis=1)\n",
    "        \n",
    "    h = sigmoid_function(x @ theta)\n",
    "    \n",
    "    y_pred = np.round(h)\n",
    "\n",
    "    correct = (y_pred == y).sum()\n",
    "    return correct/m\n",
    "    "
   ]
  },
  {
   "cell_type": "code",
   "execution_count": 17,
   "metadata": {},
   "outputs": [
    {
     "name": "stdout",
     "output_type": "stream",
     "text": [
      "Model Accuracy: 93%\n"
     ]
    }
   ],
   "source": [
    "print('Model Accuracy: {:.0%}'.format(get_accuracy(x, y, theta)))"
   ]
  },
  {
   "cell_type": "markdown",
   "metadata": {},
   "source": [
    "### Logistic Regression using Sklearn\n",
    "\n",
    "This serves as a benchmark."
   ]
  },
  {
   "cell_type": "code",
   "execution_count": 18,
   "metadata": {},
   "outputs": [
    {
     "data": {
      "text/plain": [
       "LogisticRegression(C=1.0, class_weight=None, dual=False, fit_intercept=True,\n",
       "                   intercept_scaling=1, l1_ratio=None, max_iter=100,\n",
       "                   multi_class='auto', n_jobs=None, penalty='l2',\n",
       "                   random_state=None, solver='lbfgs', tol=0.0001, verbose=0,\n",
       "                   warm_start=False)"
      ]
     },
     "execution_count": 18,
     "metadata": {},
     "output_type": "execute_result"
    }
   ],
   "source": [
    "model = LogisticRegression()\n",
    "model.fit(x, y[:, 0])"
   ]
  },
  {
   "cell_type": "code",
   "execution_count": 19,
   "metadata": {},
   "outputs": [
    {
     "data": {
      "text/plain": [
       "array([[-25.05219314],\n",
       "       [  0.20535491],\n",
       "       [  0.2005838 ]])"
      ]
     },
     "execution_count": 19,
     "metadata": {},
     "output_type": "execute_result"
    }
   ],
   "source": [
    "theta = np.append(model.intercept_, model.coef_)[:, np.newaxis]\n",
    "theta"
   ]
  },
  {
   "cell_type": "code",
   "execution_count": 20,
   "metadata": {},
   "outputs": [
    {
     "data": {
      "image/png": "[encoded data removed]",
      "text/plain": [
       "<Figure size 432x288 with 1 Axes>"
      ]
     },
     "metadata": {
      "needs_background": "light"
     },
     "output_type": "display_data"
    }
   ],
   "source": [
    "plot(x, y, theta)"
   ]
  },
  {
   "cell_type": "code",
   "execution_count": 21,
   "metadata": {},
   "outputs": [
    {
     "name": "stdout",
     "output_type": "stream",
     "text": [
      "Model Accuracy: 89%\n"
     ]
    }
   ],
   "source": [
    "print('Model Accuracy: {:.0%}'.format(model.score(x, y)))"
   ]
  },
  {
   "cell_type": "markdown",
   "metadata": {},
   "source": [
    "## Optimizing Gradient Descent\n",
    "\n",
    "We will implement [feature scaling](https://www.coursera.org/learn/machine-learning/supplement/CTA0D/gradient-descent-in-practice-i-feature-scaling) so that the theta values converge faster to global minimum in our gradient descent algorithm."
   ]
  },
  {
   "cell_type": "markdown",
   "metadata": {},
   "source": [
    "### Feature Scaling\n",
    "\n",
    "Gradient Descent converges faster to global minimum if we scale our features."
   ]
  },
  {
   "cell_type": "markdown",
   "metadata": {},
   "source": [
    "#### Optimum theta values\n",
    "\n",
    "We know the optimium theta values from running Logistic Regression on Sklearn:\n",
    "\n",
    "\\begin{equation}\n",
    "\\theta \\approx\n",
    "    \\begin{bmatrix}\n",
    "    -25.05219314\\\\\n",
    "    0.20535491\\\\\n",
    "    0.2005838\n",
    "\\end{bmatrix}\n",
    "\\end{equation}"
   ]
  },
  {
   "cell_type": "markdown",
   "metadata": {},
   "source": [
    "#### Theta values from our implementation\n",
    "\n",
    "We can see that the theta values in our implementation are converging towards the optimum theta values. However, after 200,000 steps, our values are still not close enough to the optimum:\n",
    "\n",
    "\\begin{equation}\n",
    "\\theta \\approx\n",
    "    \\begin{bmatrix}\n",
    "-7.0102\\\\\n",
    "0.0621\\\\\n",
    "0.0555\\\n",
    "\\end{bmatrix}\n",
    "\\end{equation}"
   ]
  },
  {
   "cell_type": "markdown",
   "metadata": {},
   "source": [
    "We need features' values $x_i$ to be approximetely between -1 and 1 i.e. $-1 <=x_{i} <= 1$, but not too small either. Ideally, we would like:\n",
    "\n",
    "$$0.3 <= |x_{i}| <= 3$$"
   ]
  },
  {
   "cell_type": "markdown",
   "metadata": {},
   "source": [
    "#### Mean Normalization\n",
    "\n",
    "We can use mean normalization to get feature values on the same scale:\n",
    "\n",
    "$$ x_{i} := \\frac{x_{i} - \\mu_{i}}{s_{i}},$$\n",
    "\n",
    "where $\\mu_i$ is the mean, and $s_{i}$ is range of values (max - min) or standard deviation of all values of feature $x_i$."
   ]
  },
  {
   "cell_type": "code",
   "execution_count": 84,
   "metadata": {},
   "outputs": [],
   "source": [
    "def feature_normalize(x):\n",
    "    \"\"\"\n",
    "    Normalizes all feature values except for the intercept, \n",
    "    using standard deviation.\n",
    "    \n",
    "    \"\"\"\n",
    "    result = x.copy()\n",
    "    \n",
    "    means = x.mean(axis=0)\n",
    "    stds = x.std(axis=0)\n",
    "    \n",
    "    for i in range(1, x.shape[1]):\n",
    "        result[:, i] = (x[:, i] - means[i])/stds[i]\n",
    "        \n",
    "    return result, means, stds\n",
    "    "
   ]
  },
  {
   "cell_type": "code",
   "execution_count": 63,
   "metadata": {},
   "outputs": [],
   "source": [
    "def fit(x, y, alpha, steps=100):\n",
    "    x = x.copy()\n",
    "    m = y.shape[0]\n",
    "    x = np.append(np.ones((m, 1)), x, axis=1)\n",
    "    \n",
    "    # Normalize features\n",
    "    x, means, stds = feature_normalize(x)\n",
    "\n",
    "    n = x.shape[1]\n",
    "    theta = np.zeros((n, 1))\n",
    "    \n",
    "    costs = []\n",
    "    for _ in range(steps):\n",
    "        theta = gradient_descent(x, y, theta, alpha)\n",
    "        cost = cost_function(x, y, theta)\n",
    "        costs.append(cost)\n",
    "    return {'costs': costs, 'theta': theta, 'means': means, 'stds': stds}\n"
   ]
  },
  {
   "cell_type": "markdown",
   "metadata": {},
   "source": [
    "### Testing Implementation"
   ]
  },
  {
   "cell_type": "code",
   "execution_count": 64,
   "metadata": {
    "scrolled": true
   },
   "outputs": [],
   "source": [
    "alpha = 0.01\n",
    "steps = 50000\n",
    "\n",
    "result = fit(x, y, alpha=alpha, steps=steps)\n",
    "\n",
    "costs, theta = result['costs'], result['theta']"
   ]
  },
  {
   "cell_type": "code",
   "execution_count": 65,
   "metadata": {},
   "outputs": [
    {
     "name": "stdout",
     "output_type": "stream",
     "text": [
      "alpha seems to be low enough for gradient descent algorithm to converge to minimum.\n"
     ]
    }
   ],
   "source": [
    "check_cost(costs)"
   ]
  },
  {
   "cell_type": "code",
   "execution_count": 66,
   "metadata": {},
   "outputs": [
    {
     "name": "stdout",
     "output_type": "stream",
     "text": [
      "theta_0 = 1.6854528278475105\n",
      "theta_1 = 3.9223868580023677\n",
      "theta_2 = 3.6570151910541258\n"
     ]
    }
   ],
   "source": [
    "print('theta_0 = %s'%theta[0, 0], 'theta_1 = %s'%theta[1, 0], 'theta_2 = %s'%theta[2, 0], sep='\\n')"
   ]
  },
  {
   "cell_type": "code",
   "execution_count": 78,
   "metadata": {},
   "outputs": [],
   "source": [
    "t = np.linspace(x[:, 0].min(), x[:, 1].max())[:, np.newaxis]\n",
    "ones = np.ones((t.shape[0], 1))\n",
    "t = np.append(ones, t, axis=1)"
   ]
  },
  {
   "cell_type": "code",
   "execution_count": 113,
   "metadata": {},
   "outputs": [],
   "source": [
    "def plot(x, y, theta):\n",
    "    \n",
    "    x1 = x.copy()\n",
    "    \n",
    "    # Generate x1 values for boundary\n",
    "    x1_plot = np.linspace(x[:, 0].min(), x[:, 1].max())[:, np.newaxis]\n",
    "    x1_plot = np.append(np.ones((x1_plot.shape[0], 1)), x1_plot, axis=1)\n",
    "    \n",
    "    # Normalize the values\n",
    "    x1_plot, means, stds = feature_normalize(x1_plot)\n",
    "    \n",
    "    # Get the x2 values for boundary\n",
    "    x2_plot = -(1/theta[2, 0]) * x1_plot @ theta[:2, :]\n",
    "    \n",
    "    # de-normalize x1 and x2 values\n",
    "    x1_plot = (x1_plot[:, 1] * stds[1]) + means[1]\n",
    "    x2_plot = (x2_plot[:, 0] * stds[1]) + means[1]\n",
    "    \n",
    "    # plot actual data and the boundary\n",
    "    plt.scatter(x[:, 0], x[:, 1], c=y);\n",
    "    plt.plot(x1_plot, x2_plot)\n",
    "    \n",
    "    # Set labels\n",
    "    plt.xlabel('x1')\n",
    "    plt.ylabel('x2')\n",
    "\n"
   ]
  },
  {
   "cell_type": "code",
   "execution_count": 114,
   "metadata": {},
   "outputs": [
    {
     "data": {
      "image/png": "[encoded data removed]",
      "text/plain": [
       "<Figure size 432x288 with 1 Axes>"
      ]
     },
     "metadata": {
      "needs_background": "light"
     },
     "output_type": "display_data"
    }
   ],
   "source": [
    "plot(x, y, theta)"
   ]
  },
  {
   "cell_type": "code",
   "execution_count": 28,
   "metadata": {},
   "outputs": [
    {
     "name": "stdout",
     "output_type": "stream",
     "text": [
      "Model Accuracy: 60%\n"
     ]
    }
   ],
   "source": [
    "print('Model Accuracy: {:.0%}'.format(get_accuracy(x, y, theta)))"
   ]
  },
  {
   "cell_type": "markdown",
   "metadata": {},
   "source": [
    "#### Check theta values using Sklearn"
   ]
  },
  {
   "cell_type": "code",
   "execution_count": 29,
   "metadata": {},
   "outputs": [
    {
     "data": {
      "text/plain": [
       "array([[-25.05219314],\n",
       "       [  0.20535491],\n",
       "       [  0.2005838 ]])"
      ]
     },
     "execution_count": 29,
     "metadata": {},
     "output_type": "execute_result"
    }
   ],
   "source": [
    "model = LogisticRegression()\n",
    "model.fit(x, y[:, 0])\n",
    "theta = np.append(model.intercept_, model.coef_)[:, np.newaxis]\n",
    "theta"
   ]
  },
  {
   "cell_type": "code",
   "execution_count": 30,
   "metadata": {},
   "outputs": [
    {
     "name": "stdout",
     "output_type": "stream",
     "text": [
      "Sklearn model accuracy: 89%\n"
     ]
    }
   ],
   "source": [
    "print('Sklearn model accuracy: {:.0%}'.format(model.score(x, y)))"
   ]
  },
  {
   "cell_type": "markdown",
   "metadata": {},
   "source": [
    "## Regularized Logistic Regression\n",
    "\n",
    "[Overfitting](https://www.coursera.org/learn/machine-learning/supplement/VTe37/the-problem-of-overfitting) can occur if there are too many features in our dataset. One way to deal with overfitting is to use [regularization](https://www.coursera.org/learn/machine-learning/supplement/v51eg/regularized-logistic-regression).\n",
    "\n",
    "\n",
    "#### Lasso (L1) and Ridge (L2) Regularization Methods\n",
    "https://towardsdatascience.com/l1-and-l2-regularization-methods-ce25e7fc831c\n",
    "\n",
    "\n",
    "We will be implementing L2 Regularization method, also known as Ridge Regression.\n",
    "\n",
    "\n",
    "#### Normalizing for Regularization\n",
    "Features are usually [normalized](https://stats.stackexchange.com/a/195391) before applying Lasso or Ridge Regression."
   ]
  },
  {
   "cell_type": "markdown",
   "metadata": {},
   "source": [
    "### Implementing Regularization\n",
    "To implement regularization, we must add the regularization term to:\n",
    "- **Cost function**\n",
    "- **Gradient Descent Algorithm**"
   ]
  },
  {
   "cell_type": "markdown",
   "metadata": {},
   "source": [
    "### Regularized Cost Function\n",
    "\n",
    "https://www.coursera.org/learn/machine-learning/supplement/1tJlY/cost-function"
   ]
  },
  {
   "cell_type": "markdown",
   "metadata": {},
   "source": [
    "#### Cost function with Regularization:"
   ]
  },
  {
   "cell_type": "markdown",
   "metadata": {},
   "source": [
    "<img src=\"./images/regularized-cost-function.png\" width=\"600\"> "
   ]
  },
  {
   "cell_type": "code",
   "execution_count": 31,
   "metadata": {},
   "outputs": [],
   "source": [
    "def cost_function_L2(x, y, theta, l):\n",
    "    \"\"\"\n",
    "    Returns the cost for given x, y, and theta.\n",
    "    \n",
    "    Params:\n",
    "        x (numpy array): ((M x (N+1)) matrix), these are \n",
    "            the dataset features.\n",
    "            \n",
    "        y (numpy array): (M x 1) column vector, this is\n",
    "            the value to be predicted.\n",
    "            \n",
    "        theta (numpy array): Co-efficients\n",
    "        \n",
    "        l (float): Regularization term for Ridge regression\n",
    "    \n",
    "    \"\"\"\n",
    "    m = y.shape[0]\n",
    "    z = x @ theta\n",
    "    h = sigmoid_function(z)\n",
    "    \n",
    "    c1 = -y.T @ np.log(h)\n",
    "    c2 = (1-y).T @ np.log(1-h)\n",
    "    \n",
    "    J = (1/m) * ( c1 - c2 )\n",
    "    \n",
    "    regularization_term = ( l/(2*m) ) * theta[1:, :].sum()\n",
    "    \n",
    "    J = J[0, 0] + regularization_term\n",
    "    \n",
    "    return J\n",
    "\n"
   ]
  },
  {
   "cell_type": "markdown",
   "metadata": {},
   "source": [
    "### Regularized Gradient Descent Algorithm\n",
    "\n",
    "The derivative part of Gradient Descent algorithm:"
   ]
  },
  {
   "cell_type": "markdown",
   "metadata": {},
   "source": [
    "<img src=\"./images/regularized-gradient-descent-j0.png\" width=\"400\"/>"
   ]
  },
  {
   "cell_type": "markdown",
   "metadata": {},
   "source": [
    "<img src=\"./images/regularized-gradient-descent-jn.png\" width=\"400\"/>"
   ]
  },
  {
   "cell_type": "markdown",
   "metadata": {},
   "source": [
    "#### Vectorised implementation"
   ]
  },
  {
   "cell_type": "markdown",
   "metadata": {},
   "source": [
    "$$\\theta_0 := \\theta_0 - \\frac{\\alpha}{m} X_1^T(g(X\\theta) - y)$$"
   ]
  },
  {
   "cell_type": "markdown",
   "metadata": {},
   "source": [
    "$$\\theta_j := \\theta_j(1 - \\alpha \\frac{\\lambda}{m}) - \\frac{\\alpha}{m} X_j^T(g(X\\theta) - y),$$"
   ]
  },
  {
   "cell_type": "markdown",
   "metadata": {},
   "source": [
    "where $X_1$ is a column vector with the first column of X and $X_j$ is a matrix with all columns of X except the first."
   ]
  },
  {
   "cell_type": "code",
   "execution_count": 32,
   "metadata": {},
   "outputs": [],
   "source": [
    "def gradient_descent_L2(x, y, theta, alpha, l):\n",
    "    \"\"\"\n",
    "    Returns coefficients (theta) by performing one step\n",
    "    of gradient descent.\n",
    "    \n",
    "    Params:\n",
    "        x (numpy array): ((M x (N+1)) matrix), these are \n",
    "            the dataset features.\n",
    "            \n",
    "        y (numpy array): (M x 1) column vector, this is\n",
    "            the value to be predicted.\n",
    "            \n",
    "        theta (numpy array): Co-efficients\n",
    "        \n",
    "        alpha (float): Learning rate for gradient descent\n",
    "            algorithm\n",
    "    \n",
    "        l (float): lambda value for regularization\n",
    "        \n",
    "    \"\"\"\n",
    "    m = y.shape[0]\n",
    "    z = x @ theta\n",
    "    h = sigmoid_function(z)\n",
    "    errors = h - y\n",
    "    \n",
    "    theta_0 = theta[0, 0].copy()\n",
    "    theta_j = theta[1:, :].copy()\n",
    "    \n",
    "    # No regularization for theta_0\n",
    "    theta_0 = theta_0 - ((alpha/m) * (x[:, 0][:, np.newaxis].T @ errors))\n",
    "    \n",
    "    # regulartization term\n",
    "    r = 1 - (alpha * l/m)\n",
    "    \n",
    "    tmp_derivative = ( (alpha/m) * (x[:, 1:].T @ errors) )\n",
    "    \n",
    "    # Update theta_1, theta_2, ..., theta_n\n",
    "    theta_j = (theta_j * r) - tmp_derivative\n",
    "    \n",
    "    # append theta0 and thetaj values\n",
    "    theta = np.append(theta_0, theta_j, axis=0)\n",
    "    \n",
    "    return theta\n",
    "    "
   ]
  },
  {
   "cell_type": "code",
   "execution_count": 33,
   "metadata": {},
   "outputs": [],
   "source": [
    "def fit_L2(x, y, alpha, l, steps=100):\n",
    "    m = y.shape[0]\n",
    "    \n",
    "    x = feature_normalize(x)\n",
    "    x = np.append(np.ones((m, 1)), x, axis=1)\n",
    "    n = x.shape[1]\n",
    "    \n",
    "    theta = np.zeros((n, 1))\n",
    "    \n",
    "    costs = []\n",
    "    for _ in range(steps):\n",
    "        theta = gradient_descent_L2(x, y, theta, alpha, l)\n",
    "        cost = cost_function_L2(x, y, theta, l)\n",
    "        costs.append(cost)\n",
    "        \n",
    "    return {'costs': costs, 'theta': theta}\n"
   ]
  },
  {
   "cell_type": "markdown",
   "metadata": {},
   "source": [
    "### Testing Implementation"
   ]
  },
  {
   "cell_type": "code",
   "execution_count": 34,
   "metadata": {},
   "outputs": [],
   "source": [
    "df = pd.read_csv('./data/ex2data2.txt', header=None, names=['x1', 'x2', 'y'])\n",
    "\n",
    "x = df[['x1', 'x2']].to_numpy()\n",
    "y = df[['y']].to_numpy()"
   ]
  },
  {
   "cell_type": "code",
   "execution_count": 35,
   "metadata": {},
   "outputs": [
    {
     "data": {
      "image/png": "[encoded data removed]",
      "text/plain": [
       "<Figure size 432x288 with 1 Axes>"
      ]
     },
     "metadata": {
      "needs_background": "light"
     },
     "output_type": "display_data"
    }
   ],
   "source": [
    "plt.scatter(df['x1'], df['x2'], c=df['y']);\n",
    "plt.xlabel('x1')\n",
    "plt.ylabel('x2')\n",
    "plt.show()"
   ]
  },
  {
   "cell_type": "markdown",
   "metadata": {},
   "source": [
    "We can see that a straight line will not be a good fit for this dataset."
   ]
  },
  {
   "cell_type": "markdown",
   "metadata": {},
   "source": [
    "### Feature mapping ([p.8](./misc/machine-learning-ex2/ex2.pdf))\n",
    "Creating more features is one way to fit the data better. We will map the features into all polynomial terms of $x_1$ and $x_2$ up to the sixth power."
   ]
  },
  {
   "cell_type": "code",
   "execution_count": 36,
   "metadata": {},
   "outputs": [],
   "source": [
    "def map_features(x1, x2, degree=6):\n",
    "    \"\"\"\n",
    "    Maps the features into all polynomial terms\n",
    "    up to the specified degree.\n",
    "    \n",
    "    Params:\n",
    "        x1 (np array): mx1 numpy array, feature in dataset\n",
    "        x2 (np array): mx1 numpy array, feature in dataset\n",
    "        \n",
    "    e.g. \n",
    "        degree = 6 will return and array of size\n",
    "        (m x 49) where m is the number of rows.\n",
    "        Powers for x1 x2\n",
    "        ---\n",
    "        x1 exponents -> 0 1 2 3 4 5 6\n",
    "        x2 exponents -> 0 1 2 3 4 5 6\n",
    "        ---\n",
    "        00 01 02 ... 06\n",
    "        10 11 12 ... 16\n",
    "            ...\n",
    "        60 61 62 ... 66\n",
    "        \n",
    "    \"\"\"\n",
    "    result = np.ones((x1.shape[0], 1))\n",
    "    for i in range(0, degree+1):\n",
    "        for j in range(0, degree+1):\n",
    "            if i == j == 0:\n",
    "                continue\n",
    "            v = (x1**i) * (x2**j)\n",
    "            result = np.hstack((result, v))\n",
    "            \n",
    "    return result"
   ]
  },
  {
   "cell_type": "markdown",
   "metadata": {},
   "source": [
    "#### Add feature mapping to fit method"
   ]
  },
  {
   "cell_type": "code",
   "execution_count": 38,
   "metadata": {},
   "outputs": [],
   "source": [
    "def fit_L2(x, y, alpha, l, steps=100):\n",
    "    \"\"\"\n",
    "    Regularized Logistic Regression (Ridge).\n",
    "    \n",
    "    \"\"\"\n",
    "    \n",
    "    m = y.shape[0]\n",
    "    \n",
    "    # Feature mapping\n",
    "    x1, x2 = x[:, 0:1], x[:, 1:2]\n",
    "    x = map_features(x1, x2, degree=6)\n",
    "    \n",
    "    # Normalize features\n",
    "    x_normalized, means, stds = feature_normalize(x)\n",
    "\n",
    "    n = x_normalized.shape[1]\n",
    "    \n",
    "    theta = np.zeros((n, 1))\n",
    "    \n",
    "    costs = []\n",
    "    for _ in range(steps):\n",
    "        theta = gradient_descent_L2(x_normalized, y, theta, alpha, l)\n",
    "        cost = cost_function_L2(x_normalized, y, theta, l)\n",
    "        costs.append(cost)\n",
    "    \n",
    "    accuracy = get_accuracy(x_normalized, y, theta, add_ones=False)\n",
    "    \n",
    "    return {'costs': costs, 'theta': theta, 'accuracy': accuracy, 'means': means, 'stds': stds}\n"
   ]
  },
  {
   "cell_type": "code",
   "execution_count": 39,
   "metadata": {},
   "outputs": [],
   "source": [
    "alpha = 0.0004\n",
    "l = 10\n",
    "steps = 50000\n",
    "\n",
    "result = fit_L2(x, y, alpha=alpha, l=10, steps=steps)\n",
    "\n",
    "costs, theta, accuracy = result['costs'], result['theta'], result['accuracy']"
   ]
  },
  {
   "cell_type": "code",
   "execution_count": 40,
   "metadata": {},
   "outputs": [
    {
     "name": "stdout",
     "output_type": "stream",
     "text": [
      "alpha seems to be low enough for gradient descent algorithm to converge to minimum.\n"
     ]
    }
   ],
   "source": [
    "check_cost(costs)"
   ]
  },
  {
   "cell_type": "code",
   "execution_count": 41,
   "metadata": {},
   "outputs": [
    {
     "name": "stdout",
     "output_type": "stream",
     "text": [
      "Accuracy: 0.8305084745762712%\n"
     ]
    }
   ],
   "source": [
    "print('Accuracy: {}%'.format(accuracy))"
   ]
  },
  {
   "cell_type": "code",
   "execution_count": 42,
   "metadata": {},
   "outputs": [
    {
     "data": {
      "image/png": "[encoded data removed]",
      "text/plain": [
       "<Figure size 432x288 with 1 Axes>"
      ]
     },
     "metadata": {
      "needs_background": "light"
     },
     "output_type": "display_data"
    }
   ],
   "source": [
    "plt.plot(costs);"
   ]
  },
  {
   "cell_type": "code",
   "execution_count": 43,
   "metadata": {},
   "outputs": [
    {
     "data": {
      "text/html": [
       "<div>\n",
       "<style scoped>\n",
       "    .dataframe tbody tr th:only-of-type {\n",
       "        vertical-align: middle;\n",
       "    }\n",
       "\n",
       "    .dataframe tbody tr th {\n",
       "        vertical-align: top;\n",
       "    }\n",
       "\n",
       "    .dataframe thead th {\n",
       "        text-align: right;\n",
       "    }\n",
       "</style>\n",
       "<table border=\"1\" class=\"dataframe\">\n",
       "  <thead>\n",
       "    <tr style=\"text-align: right;\">\n",
       "      <th></th>\n",
       "      <th>theta</th>\n",
       "    </tr>\n",
       "  </thead>\n",
       "  <tbody>\n",
       "    <tr>\n",
       "      <th>0</th>\n",
       "      <td>-0.261776</td>\n",
       "    </tr>\n",
       "    <tr>\n",
       "      <th>1</th>\n",
       "      <td>0.442488</td>\n",
       "    </tr>\n",
       "    <tr>\n",
       "      <th>2</th>\n",
       "      <td>-0.309517</td>\n",
       "    </tr>\n",
       "  </tbody>\n",
       "</table>\n",
       "</div>"
      ],
      "text/plain": [
       "      theta\n",
       "0 -0.261776\n",
       "1  0.442488\n",
       "2 -0.309517"
      ]
     },
     "execution_count": 43,
     "metadata": {},
     "output_type": "execute_result"
    }
   ],
   "source": [
    "pd.DataFrame(theta, columns=['theta']).head(3)"
   ]
  },
  {
   "cell_type": "markdown",
   "metadata": {},
   "source": [
    "### Predict function"
   ]
  },
  {
   "cell_type": "code",
   "execution_count": 44,
   "metadata": {},
   "outputs": [],
   "source": [
    "means = result['means']\n",
    "stds = result['stds']\n",
    "\n",
    "\n",
    "def _predict_normalize(x, means, stds):\n",
    "    # Map features\n",
    "    result = map_features(x[:, 0:1], x[:, 1:2], degree=6)\n",
    "    \n",
    "    # apply same normalization as the one by fit method\n",
    "    for i in range(1, result.shape[1]):\n",
    "        result[:, i] = (result[:, i] - means[i])/stds[i]\n",
    "        \n",
    "    return result\n",
    "\n",
    "\n",
    "\n",
    "def predict(x, theta):\n",
    "    m = x.shape[0]\n",
    "    \n",
    "    x_n = _predict_normalize(x, means, stds)\n",
    "    \n",
    "    h = sigmoid_function(x_n @ theta)\n",
    "    \n",
    "    y_pred = np.round(h)\n",
    "    \n",
    "    return y_pred\n",
    "    \n",
    "    "
   ]
  },
  {
   "cell_type": "code",
   "execution_count": 45,
   "metadata": {},
   "outputs": [
    {
     "data": {
      "text/plain": [
       "1.0"
      ]
     },
     "execution_count": 45,
     "metadata": {},
     "output_type": "execute_result"
    }
   ],
   "source": [
    "predict(x[0:1], theta)[0, 0]"
   ]
  },
  {
   "cell_type": "markdown",
   "metadata": {},
   "source": [
    "### Plot the boundary"
   ]
  },
  {
   "cell_type": "code",
   "execution_count": 46,
   "metadata": {},
   "outputs": [],
   "source": [
    "def get_boundary(x, theta):\n",
    "    \n",
    "    x1_plot = np.linspace(x[:, 0].min() , x[:, 0].max(), 55)\n",
    "    x2_plot = np.linspace(x[:, 1].min(), x[:, 1].max(), 55)\n",
    "    \n",
    "    result = np.zeros((1, 3))\n",
    "    \n",
    "    for x2 in x2_plot:\n",
    "        for x1 in x1_plot:\n",
    "            x_pred = np.array([[x1, x2]])\n",
    "            y_pred = predict(x_pred, theta)[0][0]\n",
    "            k = np.array([[x1, x2, y_pred]])\n",
    "            result = np.vstack((result, k))\n",
    "\n",
    "    return result[1:]\n"
   ]
  },
  {
   "cell_type": "code",
   "execution_count": 47,
   "metadata": {},
   "outputs": [],
   "source": [
    "boundary = get_boundary(x, theta)"
   ]
  },
  {
   "cell_type": "code",
   "execution_count": 48,
   "metadata": {},
   "outputs": [
    {
     "data": {
      "image/png": "[encoded data removed]",
      "text/plain": [
       "<Figure size 432x288 with 1 Axes>"
      ]
     },
     "metadata": {
      "needs_background": "light"
     },
     "output_type": "display_data"
    }
   ],
   "source": [
    "plt.scatter(boundary[:, 0], boundary[:, 1], c=boundary[:, 2], alpha=0.1)\n",
    "plt.scatter(x[:, 0], x[:, 1], c=y[:, 0], alpha=1)\n",
    "plt.xlabel('x1'), plt.ylabel('x2')\n",
    "plt.show()"
   ]
  },
  {
   "cell_type": "markdown",
   "metadata": {},
   "source": [
    "### Useful links\n",
    "\n",
    "#### Regularized Linear Regression\n",
    "https://www.coursera.org/learn/machine-learning/supplement/pKAsc/regularized-linear-regression"
   ]
  },
  {
   "cell_type": "code",
   "execution_count": null,
   "metadata": {},
   "outputs": [],
   "source": []
  }
 ],
 "metadata": {
  "kernelspec": {
   "display_name": "Python 3",
   "language": "python",
   "name": "python3"
  },
  "language_info": {
   "codemirror_mode": {
    "name": "ipython",
    "version": 3
   },
   "file_extension": ".py",
   "mimetype": "text/x-python",
   "name": "python",
   "nbconvert_exporter": "python",
   "pygments_lexer": "ipython3",
   "version": "3.7.7"
  }
 },
 "nbformat": 4,
 "nbformat_minor": 4
}
